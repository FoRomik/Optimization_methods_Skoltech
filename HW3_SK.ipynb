{
 "cells": [
  {
   "cell_type": "markdown",
   "metadata": {},
   "source": [
    "## Optimization Methods, Homework №3 - Demidov Andrei"
   ]
  },
  {
   "cell_type": "markdown",
   "metadata": {},
   "source": [
    "### Task 1\n",
    "#### Solution:"
   ]
  },
  {
   "cell_type": "markdown",
   "metadata": {},
   "source": [
    "It's known that a function of convex iff the area above its graph is convex. But then the region of $h(x)=max(f(x), g(x))$ is the intersection of the area of function $f$ and the area of function $g$. Moreover, intersection of convex sets is convex and that concludes the proof."
   ]
  },
  {
   "cell_type": "markdown",
   "metadata": {},
   "source": [
    "### Task 2\n",
    "#### Solution:"
   ]
  },
  {
   "cell_type": "markdown",
   "metadata": {},
   "source": [
    "In this task we need to find the gradient and the Hessian of the quadratic form $f(x) = (Ax, x)$. Let's consider the quadratic form in the next expression: $f(x)=x^T A x$. It's known that\n",
    "\n",
    "$$\n",
    "f(x+h) = f(x) + \\nabla{f}h + o(h)\n",
    "$$\n",
    "\n",
    "$f(x+h) = (x+h)^T A (x+h) = x^T A x + x^T A h + h^T A x + h^T A h \\Rightarrow f(x+h) - f(x) = x^T (A + A^T) h + o(h)$\n",
    "\n",
    "Hence,\n",
    "\n",
    "$$\n",
    "\\frac{f(x+h) - f(x)}{h} = \\nabla {f} = x^T (A + A^T)\n",
    "$$\n",
    "\n",
    "Then the Hessian matrix is:\n",
    "$$\n",
    "H = A + A^T\n",
    "$$"
   ]
  },
  {
   "cell_type": "markdown",
   "metadata": {},
   "source": [
    "### Task 3\n",
    "#### Solution:"
   ]
  },
  {
   "cell_type": "markdown",
   "metadata": {},
   "source": [
    "In this task we need to prove that the composition rule is convex. To prove it there is a need to use the definitions.\n",
    "\n",
    "Non-increasing function $f$: $f(x) \\geq f(x+y), \\forall y \\in R$\n",
    "\n",
    "Concave function $f$: $f((1 - \\alpha)x + \\alpha y) \\geq (1-\\alpha)f(x) + \\alpha f(y), \\forall x,y \\in R, \\alpha \\in [0,1]$\n",
    "\n",
    "Hence,\n",
    "\n",
    "$$\n",
    "f((1-\\alpha)x + \\alpha y)=h(g(x)) = h((1 - \\alpha)g(x) + \\alpha g(y))) \\leq (1- \\alpha) h(g(x)) + \\alpha h(g(y)) = (1-\\alpha)f(x) + \\alpha f(y) \\Rightarrow f((1-\\alpha)x + \\alpha y) \\leq (1-\\alpha)f(x) + \\alpha f(y)\n",
    "$$"
   ]
  },
  {
   "cell_type": "markdown",
   "metadata": {},
   "source": [
    "### Task 4\n",
    "#### Solution:"
   ]
  },
  {
   "cell_type": "markdown",
   "metadata": {},
   "source": [
    "According to the definition of the strongly convex function:\n",
    "\n",
    "$$\n",
    "f(y) \\geq f(x) + \\nabla f(x)' (y-x) + \\frac{m}{2} \\||y-x\\||_2^2, \\forall x,y \\in dom(f)\n",
    "$$\n",
    "\n",
    "In particular, for $x=x^*$, it is\n",
    "\n",
    "$$\n",
    "f(y) \\geq f(x^*) + \\nabla f(x^*)' (y-x^*) + \\frac{m}{2} \\||y-x^*\\||_2^2, \\forall y \\in dom(f)\n",
    "$$\n",
    "\n",
    "$x^*$ is a global minimum of $f$ and $\\nabla f(x^*)=0$. Hence,\n",
    "\n",
    "$$\n",
    "f(y) \\geq f(x^*) + \\frac{m}{2} \\||y-x^*\\||_2^2, \\forall y \\in dom(f)\n",
    "$$\n",
    "\n",
    "Using the definition of $Q$, here is the following expression:\n",
    "\n",
    "$$\n",
    "c \\geq f(y) \\geq f(x^*) + \\frac{m}{2} \\||y-x^*\\||_2^2, \\forall y \\in Q \\Rightarrow\n",
    "$$\n",
    "\n",
    "$$\n",
    "\\||y-x^*\\||_2^2 \\leq \\frac{2}{m} (c - f(x^*)), \\forall y \\in Q\n",
    "$$\n",
    "\n",
    "From this expression it is clear to see the boundedness of $Q$."
   ]
  },
  {
   "cell_type": "markdown",
   "metadata": {},
   "source": [
    "### Task 5\n",
    "#### Solution:"
   ]
  },
  {
   "cell_type": "markdown",
   "metadata": {},
   "source": [
    "By definition, the epigraph of a function $f: x \\rightarrow [-\\infty, \\infty]$ is the subset of $R^{n+1}$ given by\n",
    "\n",
    "$$\n",
    "epi(f)= (x,w)|x \\in X, w \\in R, f(x) \\leq w\n",
    "$$\n",
    "\n",
    "Hence, the dimenstions of $c$ must be (n,) and dimension of b - (1,)"
   ]
  },
  {
   "cell_type": "markdown",
   "metadata": {},
   "source": [
    "### Task 6\n",
    "#### Solution:"
   ]
  },
  {
   "cell_type": "markdown",
   "metadata": {},
   "source": [
    "In this task we need to find the conjugate function to quadratic form $f(x) = (Qx, x)$. Let's consider the quadratic form in the next expression: $f(x)=x^T Q x$. \n",
    "\n",
    "The conjugate function is $f^*(y) = sup(x y^T - f(x)).$\n",
    "$$\n",
    "\\frac{df^*(y)}{dy} = y^T - x^T (A + A^T) = 0\n",
    "$$\n",
    "\n",
    "$$\n",
    "x = \\frac{y}{A+A^T}\n",
    "$$\n",
    "\n",
    "Hence the conjugate function is:\n",
    "\n",
    "$$\n",
    "f^*(y) = \\frac{y}{A+A^T} y^T - (\\frac{y}{A+A^T})^T A \\frac{y}{A+A^T}\n",
    "$$"
   ]
  },
  {
   "cell_type": "markdown",
   "metadata": {},
   "source": [
    "### Task 7\n",
    "#### Solution:"
   ]
  },
  {
   "cell_type": "markdown",
   "metadata": {},
   "source": [
    "In this task we need to solve the optimization problem.\n",
    "$$\n",
    "\\min_{z \\in R} \\frac{1}{m} \\sum_{i=1}^{m} (z-x_i)^2\n",
    "$$\n",
    "\n",
    "$$\n",
    "\\frac{1}{m} \\sum_{i=1}^{m} (z-x_i)^2 = \\frac{1}{m} \\sum_{i=1}^{m} (z-x_i)^T (z-x_i) = \n",
    "$$\n",
    "\n",
    "$$\n",
    "\\frac{1}{m} \\sum_{i=1}^{m} (z^T z - 2 z^T x_i + x_i^T x_i) \n",
    "$$\n",
    "\n",
    "Doing the procedure of minimization, there is the following form:\n",
    "\n",
    "$$\n",
    "\\frac{1}{m} \\sum_{i=1}^{m} (2z^T - 2x_i^T) = 0 \\Rightarrow \\frac{2 m z^T}{m} - \\frac{2}{m} \\sum_{i=1}^{m}x_i^T = 0\n",
    "$$\n",
    "Hence,\n",
    "$$\n",
    "m z^T = \\sum_{i=1}^{m} x_i^T \\Rightarrow z = \\frac{1}{m} \\sum_{i=1}^{m} x_i\n",
    "$$"
   ]
  },
  {
   "cell_type": "markdown",
   "metadata": {},
   "source": [
    "### Task 8\n",
    "#### Solution:"
   ]
  },
  {
   "cell_type": "markdown",
   "metadata": {},
   "source": [
    "In this task we need to solve the optimization problem.\n",
    "$$\n",
    "\\min_{a,b} \\frac{1}{m} \\sum_{i=1}^{m} (a x_i + b - y_i)^2\n",
    "$$\n",
    "\n",
    "Firstly, there is a need to find the partial derivatives w.r.t. $a$ and $b$.\n",
    "\n",
    "$$\n",
    "\\frac{1}{m} \\sum_{i=1}^{m} (a x_i + b - y_i)^2 = \\frac{1}{m} \\sum_{i=1}^{m} (x_i ^T a^T a x_i + x_i^T a^T b - x_i^T a^T y_i + b^T a x_i + b^T b - b y_i - y_i^T a x_i - y_i^T b + y_i^T y_i)\n",
    "$$\n",
    "\n",
    "The partial derivatives are:\n",
    "\n",
    "$$\n",
    "\\frac{df}{da} = \\frac{2}{m} \\sum_{i=1}^{m} (a x_i^2 + b x_i - y_i x_i) = 0\n",
    "$$\n",
    "\n",
    "$$\n",
    "\\frac{df}{db} = \\frac{2}{m} \\sum_{i=1}^{m} (a x_i + b - y_i) = 0\n",
    "$$\n",
    "\n",
    "Let's denote $\\bar{y} = \\frac{y_1 + y_2 + y_3 + ... + y_n}{n}, \\bar{x} = \\frac{x_1 + x_2 + x_3 + ... + y_n}{n}$.\n",
    "\n",
    "Then,\n",
    "\n",
    "$$\n",
    "\\begin{align*}\n",
    "  a\\bar{x^2} + + b\\bar{x} = \\bar{xy} \\\\ \n",
    "  a\\bar{x} + b = \\bar{y} \\\\ \n",
    "\\end{align*}\n",
    "$$\n",
    "\n",
    "Substract first equality from the second:\n",
    "\n",
    "$$\n",
    "a(\\bar{x} - \\frac{\\bar{x^2}}{\\bar{x}}) = \\bar{y} - \\frac{\\bar{xy}}{\\hat{x}} \\Rightarrow a = \n",
    "\\frac{\\bar{y} - \\frac{\\bar{xy}}{\\bar{x}}}{\\bar{x} - \\frac{\\bar{x^2}}{\\bar{x}}}\n",
    "$$\n",
    "\n",
    "Hence,\n",
    "$$\n",
    "a = \\frac{\\bar{xy} - \\bar{x} \\bar{y}} {\\bar{x^2} - \\bar{x}^2}, b = \\bar{y} - a \\bar{x}\n",
    "$$"
   ]
  },
  {
   "cell_type": "markdown",
   "metadata": {},
   "source": [
    "### Task 9\n",
    "#### Solution:"
   ]
  },
  {
   "cell_type": "markdown",
   "metadata": {},
   "source": [
    "Firtsly, there is a need to show that $H_{k+1} s = d$ and $s = B_{k+1} d$.\n",
    "\n",
    "$$\n",
    "H_{k+1}s = (H_k + \\frac{d d^T}{(d,s)} - \\frac{H_k s s^T H_k}{(H_k s, s)})s = H_k s + \\frac{d d^T}{(d,s)} s - \\frac{H_k s s^T H_k}{(H_k s, s)} s = d\n",
    "$$\n",
    "\n",
    "$$\n",
    "B_{k+1}d = ((I - \\frac{d s^T}{(d,s)}) B_k (I - \\frac{s d^T}{(d,s)}) + \\frac{d d^T}{(d,s)}) d = \n",
    "$$\n",
    "\n",
    "$$\n",
    "= B_k d - \\frac{s d^T}{s^T d} B_k d + \\frac{s d^T}{s^T d} B_k d \\frac{s^T d}{s^T d} - B_k d \\frac{s^T d} {s^T d} + s \\frac{s^T d} {d^T s} = s\n",
    "$$\n",
    "\n",
    "\n",
    "Also there is a need to show the positive defiteness of $H_k$. The inverse function is the following\n",
    "$$\n",
    "H_k^{-1} = (I - \\frac{s y^T}{y^T s})H_{k-1}^{-1}(I - \\frac{y s^T}{y^T s}) + \\frac{s s^T}{y^T s}\n",
    "$$\n",
    "\n",
    "Hence,\n",
    "$$\n",
    "v^T H_k^{-1} v = (v - \\frac{s^T v}{s^T y}y)H_{k-1}^{-1}(v - \\frac{s^T v}{s^T y}y) + \\frac{(s^T v)^2}{y^T s}\n",
    "$$\n",
    "\n",
    "if $H_{k-1} > 0$, both terms are nonnegative for all $v$, second term is zero only if $s^T v = 0$, the first term is zero only if $v=0$.\n",
    "\n",
    "Same proof for the $B_k$."
   ]
  },
  {
   "cell_type": "markdown",
   "metadata": {},
   "source": [
    "### Task 10\n",
    "#### Solution:"
   ]
  },
  {
   "cell_type": "markdown",
   "metadata": {},
   "source": [
    "For this task there is a need to use a Lagrangian method to optimize the function.\n",
    "\n",
    "\n",
    "The Lagrangian is:\n",
    "$$\n",
    "L(x, \\lambda) = f(x) + \\lambda g(x) = ||z - x||_2^2 + \\lambda \\left( || x - c ||^2 - r^2 \\right )\n",
    "$$\n",
    "\n",
    "The dual function is:\n",
    "$$\n",
    "d(\\lambda) = inf_{x} L(x, \\lambda) = inf_{x} \\left [ ||z - x||_2^2 + \\lambda \\left( || x - c ||^2 - r^2 \\right ) \\right ]\n",
    "$$\n",
    "\n",
    "The gradient of Lagrangian is:\n",
    "$$\n",
    "\\frac{dL}{dx} = 2 (z - x)^T + 2 \\lambda (x-c)^T = 0 \\Rightarrow x = \\frac{\\lambda c - z}{\\lambda - 1}\n",
    "$$\n",
    "\n",
    "The dual function has the following form after replacing $x$ with found solution:\n",
    "$$\n",
    "d(\\lambda) = ||\\dfrac{\\lambda}{\\lambda - 1} (z - c)||_2^2 + \\lambda \\left( || \\frac{c-z}{\\lambda - 1}||^2 - r^2 \\right )\n",
    "$$\n",
    "\n",
    "$$\n",
    "\\Rightarrow\n",
    "$$\n",
    "$$\n",
    "d(\\lambda) = m (\\frac{\\lambda^2}{(\\lambda - 1)^2} + \\frac{\\lambda}{(\\lambda - 1)^2}) - \\lambda r^2, \\text{where m = ||z-c||}\n",
    "$$\n",
    "\n",
    "The solution for the dual function is $q = sup_{\\lambda \\geq 0}(d(\\lambda))$. To find a solution, there is a need to calculate a gradient of dual function. Then:\n",
    "\n",
    "$$\n",
    "\\frac{d}{d \\lambda} d(\\lambda) = 0 \\Rightarrow (\\lambda - 1)^2 = \\frac{m}{r^2} \\Rightarrow = \\lambda = 1 \\pm \\frac{\\sqrt{m}}{r} \\Rightarrow = \\lambda = 1 + \\frac{\\sqrt{m}}{r} \\text{because the answer with minus has no solution}\n",
    "$$\n",
    "\n",
    "Hence,\n",
    "\n",
    "$$\n",
    "g(\\lambda) = m (\\frac{\\lambda^2}{(\\lambda - 1)^2} + \\frac{\\lambda}{(\\lambda - 1)^2}) - \\lambda r, \\text{where m = ||z-c|| and } \\lambda = 1 + \\frac{\\sqrt{m}}{r}\n",
    "$$"
   ]
  },
  {
   "cell_type": "markdown",
   "metadata": {},
   "source": [
    "### Task 11\n",
    "#### Solution:"
   ]
  },
  {
   "cell_type": "markdown",
   "metadata": {},
   "source": [
    "For this task there is a need to use a Lagrangian method to optimize the funciton:\n",
    "\n",
    "The Lagrangian is:\n",
    "\n",
    "$$\n",
    "L(x, \\lambda) = f(x) + \\lambda g(x) = || x - z ||_2^2 + \\lambda \\left (  (a, x) - b \\right )\n",
    "$$\n",
    "\n",
    "The dual function is:\n",
    "$$\n",
    "d(\\lambda) = inf_{x} L(x, \\lambda) = inf_{x} [ || x - z ||_2^2 + \\lambda \\left (  (a, x) - b \\right ) ]\n",
    "$$\n",
    "\n",
    "The gradient of Lagrangian is:\n",
    "$$\n",
    "\\frac{dL}{dx} = \\frac{d }{d x} \\left [ || x - z ||_2^2 + \\lambda \\left (  (a, x) - b \\right ) \\right ] = 0 \\Rightarrow x = -\\frac{\\lambda}{2} a + z  \n",
    "$$\n",
    "\n",
    "The dual function has the following form after replacing $x$ with found solution:\n",
    "$$\n",
    "d(\\lambda) = || -\\frac{\\lambda}{2} a||_2^2 + \\lambda \\left (  (a, -\\frac{\\lambda}{2} a + z) - b \\right )\n",
    "$$\n",
    "\n",
    "$$\n",
    "d(\\lambda) = -\\frac{\\lambda^2}{4} \\||a\\||^2_2 + \\lambda(a^T z - b)\n",
    "$$\n",
    "\n",
    "Hence, doing the minimization of function:\n",
    "\n",
    "$$\n",
    "\\frac{-\\lambda}{2} \\||a\\||^2_2 + (a^T z - b) = 0 \\Rightarrow \\lambda^* = \\frac{2(a^T z - b)}{\\||a\\||^2_2}\n",
    "$$\n",
    "\n",
    "$$\n",
    "x = z - \\frac{\\lambda}{2}a = z - \\frac{a^T z - b}{\\||a\\||^2_2} a\n",
    "$$"
   ]
  },
  {
   "cell_type": "markdown",
   "metadata": {},
   "source": [
    "### Task 12\n",
    "#### Solution:"
   ]
  },
  {
   "cell_type": "markdown",
   "metadata": {},
   "source": [
    "To find the dual function, there is a need to determine the Lagrangian for this task:\n",
    "\n",
    "$$\n",
    "L(x, \\lambda) = f(x) + \\lambda(A x - b)\n",
    "$$\n",
    "Then there is a need to determine the dual function:\n",
    "\n",
    "$$\n",
    "g(\\lambda) = inf_x (f(x) + \\lambda(A x - b))\n",
    "$$\n",
    "\n",
    "Accroding to the expression for conjugate function in dual function from http://www.seas.ucla.edu/~vandenbe/236C/lectures/conj.pdf:\n",
    "\n",
    "$$\n",
    "g(\\lambda) = - sup_x (-f(x) - \\lambda(A x - b)) = - sup_x (- \\lambda A x - f(x)) - (b, \\lambda) = -f^*(-A^T \\lambda) - (b, \\lambda)\n",
    "$$"
   ]
  },
  {
   "cell_type": "markdown",
   "metadata": {},
   "source": [
    "### Task 13\n",
    "#### Solution:"
   ]
  },
  {
   "cell_type": "markdown",
   "metadata": {},
   "source": [
    "a) The Lagrangian is $L(x, \\lambda) = <c,x> + \\lambda(<Ax,x> - 1)$\n",
    "\n",
    "The derivatve is\n",
    "$$\n",
    "\\frac{d}{dx}L = c + \\lambda(A + A^T)x = 0 \\Rightarrow x = \\frac{-c}{\\lambda (A+A^T)}\n",
    "$$\n",
    "\n",
    "Hence, the dual function is:\n",
    "\n",
    "$$\n",
    "g(\\lambda) = <c,x> + \\lambda(<Ax,x> - 1) \\text{, where } x = \\frac{-c}{\\lambda (A+A^T)}\n",
    "$$\n",
    "\n",
    "b) To solve the dual problem, there is a need to find a derivative w.r.t. $\\lambda$:\n",
    "$$\n",
    "\\frac{d}{d\\lambda} = \\frac{d}{d\\lambda} \\frac{-1}{\\lambda}(<c, \\frac{c}{ (A+A^T)}> - <A \\frac{c}{ (A+A^T)}, \\frac{c}{ (A+A^T)}>) - \\lambda = \\frac{1}{\\lambda^2} (<c, \\frac{c}{ (A+A^T)}> - <A \\frac{c}{ (A+A^T)}, \\frac{c}{ (A+A^T)}>) - 1 = 0\n",
    "$$\n",
    "\n",
    "$$\n",
    "\\frac{1}{\\lambda^2}W - 1 = 0 \\Rightarrow \\lambda = \\pm \\sqrt{W} \\Rightarrow \\lambda = \\sqrt{W}\n",
    "$$\n"
   ]
  }
 ],
 "metadata": {
  "kernelspec": {
   "display_name": "Python 3",
   "language": "python",
   "name": "python3"
  },
  "language_info": {
   "codemirror_mode": {
    "name": "ipython",
    "version": 3
   },
   "file_extension": ".py",
   "mimetype": "text/x-python",
   "name": "python",
   "nbconvert_exporter": "python",
   "pygments_lexer": "ipython3",
   "version": "3.6.8"
  }
 },
 "nbformat": 4,
 "nbformat_minor": 2
}
